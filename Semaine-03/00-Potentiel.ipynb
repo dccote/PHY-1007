{
  "cells": [
    {
      "cell_type": "code",
      "execution_count": 75,
      "id": "a6609efc-3b9e-4da0-b22d-abc23b0f36e0",
      "metadata": {
        "colab": {
          "base_uri": "https://localhost:8080/",
          "height": 451
        },
        "id": "a6609efc-3b9e-4da0-b22d-abc23b0f36e0",
        "outputId": "14122107-d439-4523-934d-faafae14a959"
      },
      "outputs": [
        {
          "output_type": "display_data",
          "data": {
            "text/plain": [
              "<Figure size 640x480 with 1 Axes>"
            ],
            "image/png": "[encoded data removed]"
          },
          "metadata": {}
        }
      ],
      "source": [
        "import numpy as np\n",
        "import matplotlib.pyplot as plt\n",
        "\n",
        "\"\"\"\n",
        "Calculer le champ sur une ligne\n",
        "===============================\n",
        "\n",
        "La ligne est verticale (en y) et je regarde sur l'axe (y=0) en x\n",
        "\n",
        "J'ai une ligne de charges de longueur L, discrétisée en N sous-éléments de longueur L/(N-1)\n",
        "(le N-1 vient du fait que j'inclus L/2 dans la liste de valeurs).\n",
        "\n",
        "Je veux une charge totale qui ne change pas en terme du nombre N,\n",
        "donc si q = L * densité, alors densité=q/L, et dq = densité * dl,\n",
        "puisque la ligne est L est en y' (en y et c'est une source), dl = dy'\n",
        "\n",
        "\"\"\"\n",
        "\n",
        "L = 1          # Grandeur de la ligne en y\n",
        "N = 101        # Nombre de sources discrètes sur la ligne\n",
        "Y_prime = np.linspace(-L/2, L/2, N, endpoint=True ) # Valeurs en y sur la ligne\n",
        "dy_prime = Y_prime[1]-Y_prime[0]\n",
        "\n",
        "q_total = 1\n",
        "densite_charge = q_total/L\n",
        "\n",
        "distance = 30*L\n",
        "M = 30\n",
        "X = np.linspace(distance/M, distance, M, endpoint=True)\n",
        "V = np.zeros(M) # Potentiel sur la ligne x\n",
        "\n",
        "for i, x in enumerate(X):\n",
        "  for y_prime in Y_prime:\n",
        "    r = np.sqrt(x*x+y_prime*y_prime)\n",
        "    V[i] += (densite_charge*dy_prime)/r\n",
        "\n",
        "\n",
        "plt.scatter(X, V, 20, \"k\")\n",
        "plt.show()\n"
      ]
    }
  ],
  "metadata": {
    "kernelspec": {
      "display_name": "Python 3 (ipykernel)",
      "language": "python",
      "name": "python3"
    },
    "language_info": {
      "codemirror_mode": {
        "name": "ipython",
        "version": 3
      },
      "file_extension": ".py",
      "mimetype": "text/x-python",
      "name": "python",
      "nbconvert_exporter": "python",
      "pygments_lexer": "ipython3",
      "version": "3.12.2"
    },
    "colab": {
      "provenance": []
    }
  },
  "nbformat": 4,
  "nbformat_minor": 5
}